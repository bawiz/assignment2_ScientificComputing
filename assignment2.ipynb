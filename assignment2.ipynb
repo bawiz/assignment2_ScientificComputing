{
 "cells": [
  {
   "cell_type": "code",
   "execution_count": 1,
   "metadata": {
    "collapsed": false
   },
   "outputs": [],
   "source": [
    "import pandas as pd # Library for data frames in python\n",
    "import numpy as np # Scientific computing library with lots of valuable methods\n",
    "from sklearn.cross_decomposition import PLSRegression # Partial least squares library\n",
    "# Allow for inline scripts in the notebook\n",
    "%matplotlib inline \n",
    "import matplotlib.pyplot as plt # Library for easy plotting\n",
    "from sklearn.preprocessing import StandardScaler # Scaler library to normalise datasets\n",
    "from sklearn.model_selection import train_test_split # Library for splitting data into test and training sets\n",
    "from sklearn.decomposition import PCA # Scikit learn library for Principal Component Analysis\n",
    "from sklearn.model_selection import StratifiedKFold # library for creating k partitions \n",
    "import seaborn as sns # library for heatmap plots\n",
    "from sklearn.model_selection import cross_val_score # Library to evaluate models with a cross validation \n",
    "from sklearn.linear_model import ElasticNet # Elastic net package\n",
    "from sklearn.linear_model import Ridge # Ridge regression analysis package\n",
    "from sklearn.linear_model import Lasso # Lasso regression analysis package"
   ]
  },
  {
   "cell_type": "code",
   "execution_count": 2,
   "metadata": {
    "collapsed": false
   },
   "outputs": [
    {
     "name": "stdout",
     "output_type": "stream",
     "text": [
      "Pandas version  0.23.4\n",
      "Numpy version  1.13.3\n",
      "Seaborn version  0.9.0\n"
     ]
    }
   ],
   "source": [
    "print (\"Pandas version \",pd.__version__)\n",
    "print (\"Numpy version \",np.__version__)\n",
    "print (\"Seaborn version \",sns.__version__)"
   ]
  },
  {
   "cell_type": "markdown",
   "metadata": {},
   "source": [
    "# Data Preparation"
   ]
  },
  {
   "cell_type": "code",
   "execution_count": 3,
   "metadata": {
    "collapsed": false
   },
   "outputs": [
    {
     "name": "stdout",
     "output_type": "stream",
     "text": [
      "Dimensions of data frame is (1050, 247)\n"
     ]
    }
   ],
   "source": [
    "# Descriptors matrix is developed by Egon Willighagen from Maastricht University. \n",
    "# It is computed from the values \n",
    "descriptors = pd.read_csv(\"descriptors.csv\");\n",
    "print('Dimensions of data frame is', descriptors.shape);"
   ]
  },
  {
   "cell_type": "code",
   "execution_count": 4,
   "metadata": {
    "collapsed": false
   },
   "outputs": [
    {
     "name": "stdout",
     "output_type": "stream",
     "text": [
      "There are 31503 null values in the dataframe\n",
      "Dimensions of data frame are (1050, 217)\n"
     ]
    }
   ],
   "source": [
    "nNullVals = descriptors.isnull().sum().sum()\n",
    "print('There are', nNullVals, 'null values in the dataframe')\n",
    "# Remove columns where all values are na.\n",
    "descriptors = descriptors.dropna(axis='columns', how='all');\n",
    "print('Dimensions of data frame are', descriptors.shape);"
   ]
  },
  {
   "cell_type": "code",
   "execution_count": 5,
   "metadata": {
    "collapsed": false
   },
   "outputs": [
    {
     "name": "stdout",
     "output_type": "stream",
     "text": [
      "There are 3 nans in the dataframe\n"
     ]
    }
   ],
   "source": [
    "# There still might be some NaNs in each of the rows.\n",
    "nans = np.isnan(descriptors).sum().sum()\n",
    "print('There are', nans, 'nans in the dataframe')"
   ]
  },
  {
   "cell_type": "code",
   "execution_count": 6,
   "metadata": {
    "collapsed": false
   },
   "outputs": [],
   "source": [
    "# Method for imputing nans with mean of the column, \n",
    "# so we don't have to remove the whole row if a couple of values are missing\n",
    "\n",
    "# The function will return a pandas dataframe without NaNs.\n",
    "# Input matrix X is the descriptors matrix. \n",
    "def imputeNansWithMean (X):\n",
    "    # split input into header values and datapoints.\n",
    "    header = list(X)\n",
    "    X = X.values\n",
    "    \n",
    "    # If the input matrix does not contain NaNs, exit methods. \n",
    "    if (np.isnan(X).sum()==0):\n",
    "        print(\"No nans\")\n",
    "        return X\n",
    "    # Array of NaN indices\n",
    "    nans= np.argwhere(np.isnan(X))\n",
    "    # Loop through NaNs and impute indices with means of the whole column\n",
    "    for i in range(np.size(nans,0)):\n",
    "        X[nans[i][0],nans[i][1]] = np.nanmean(X[:,nans[i][1]])\n",
    "    return pd.DataFrame(data = X, columns = header)\n",
    "        "
   ]
  },
  {
   "cell_type": "code",
   "execution_count": 7,
   "metadata": {
    "collapsed": false
   },
   "outputs": [],
   "source": [
    "# Method call for removing NaNs\n",
    "descriptors = imputeNansWithMean(descriptors)"
   ]
  },
  {
   "cell_type": "code",
   "execution_count": 8,
   "metadata": {
    "collapsed": false
   },
   "outputs": [
    {
     "name": "stdout",
     "output_type": "stream",
     "text": [
      "There are 0 nans in the dataframe\n"
     ]
    }
   ],
   "source": [
    "# Check number of NaNs\n",
    "nans = np.isnan(descriptors).sum().sum()\n",
    "print('There are', nans, 'nans in the dataframe')"
   ]
  },
  {
   "cell_type": "code",
   "execution_count": 9,
   "metadata": {
    "collapsed": false
   },
   "outputs": [
    {
     "data": {
      "text/html": [
       "<div>\n",
       "<style scoped>\n",
       "    .dataframe tbody tr th:only-of-type {\n",
       "        vertical-align: middle;\n",
       "    }\n",
       "\n",
       "    .dataframe tbody tr th {\n",
       "        vertical-align: top;\n",
       "    }\n",
       "\n",
       "    .dataframe thead th {\n",
       "        text-align: right;\n",
       "    }\n",
       "</style>\n",
       "<table border=\"1\" class=\"dataframe\">\n",
       "  <thead>\n",
       "    <tr style=\"text-align: right;\">\n",
       "      <th></th>\n",
       "      <th>molSIDs</th>\n",
       "      <th>XLogP</th>\n",
       "      <th>MW</th>\n",
       "      <th>LipinskiFailures</th>\n",
       "      <th>nRotB</th>\n",
       "      <th>MLogP</th>\n",
       "      <th>nAtomLAC</th>\n",
       "      <th>nAtomP</th>\n",
       "      <th>nAtomLC</th>\n",
       "      <th>nB</th>\n",
       "      <th>...</th>\n",
       "      <th>ATSm5</th>\n",
       "      <th>ATSc1</th>\n",
       "      <th>ATSc2</th>\n",
       "      <th>ATSc3</th>\n",
       "      <th>ATSc4</th>\n",
       "      <th>ATSc5</th>\n",
       "      <th>nHBDon</th>\n",
       "      <th>nHBAcc</th>\n",
       "      <th>bpol</th>\n",
       "      <th>apol</th>\n",
       "    </tr>\n",
       "  </thead>\n",
       "  <tbody>\n",
       "    <tr>\n",
       "      <th>0</th>\n",
       "      <td>124897530.0</td>\n",
       "      <td>1.135</td>\n",
       "      <td>369.168856</td>\n",
       "      <td>0.0</td>\n",
       "      <td>10.0</td>\n",
       "      <td>2.89</td>\n",
       "      <td>3.0</td>\n",
       "      <td>8.0</td>\n",
       "      <td>10.0</td>\n",
       "      <td>28.0</td>\n",
       "      <td>...</td>\n",
       "      <td>38.705835</td>\n",
       "      <td>0.587339</td>\n",
       "      <td>-0.212712</td>\n",
       "      <td>-0.098779</td>\n",
       "      <td>0.094417</td>\n",
       "      <td>-0.105979</td>\n",
       "      <td>4.0</td>\n",
       "      <td>6.0</td>\n",
       "      <td>28.677761</td>\n",
       "      <td>57.044239</td>\n",
       "    </tr>\n",
       "    <tr>\n",
       "      <th>1</th>\n",
       "      <td>124897303.0</td>\n",
       "      <td>4.498</td>\n",
       "      <td>249.095378</td>\n",
       "      <td>0.0</td>\n",
       "      <td>2.0</td>\n",
       "      <td>3.11</td>\n",
       "      <td>2.0</td>\n",
       "      <td>18.0</td>\n",
       "      <td>2.0</td>\n",
       "      <td>21.0</td>\n",
       "      <td>...</td>\n",
       "      <td>21.080331</td>\n",
       "      <td>0.140528</td>\n",
       "      <td>-0.058828</td>\n",
       "      <td>-0.015299</td>\n",
       "      <td>0.003398</td>\n",
       "      <td>0.002364</td>\n",
       "      <td>0.0</td>\n",
       "      <td>1.0</td>\n",
       "      <td>15.641484</td>\n",
       "      <td>39.578516</td>\n",
       "    </tr>\n",
       "    <tr>\n",
       "      <th>2</th>\n",
       "      <td>124753561.0</td>\n",
       "      <td>4.554</td>\n",
       "      <td>657.230885</td>\n",
       "      <td>0.0</td>\n",
       "      <td>11.0</td>\n",
       "      <td>4.21</td>\n",
       "      <td>0.0</td>\n",
       "      <td>9.0</td>\n",
       "      <td>4.0</td>\n",
       "      <td>52.0</td>\n",
       "      <td>...</td>\n",
       "      <td>103.548597</td>\n",
       "      <td>0.986870</td>\n",
       "      <td>-0.554960</td>\n",
       "      <td>0.077083</td>\n",
       "      <td>0.204425</td>\n",
       "      <td>-0.347424</td>\n",
       "      <td>0.0</td>\n",
       "      <td>8.0</td>\n",
       "      <td>57.764452</td>\n",
       "      <td>98.933548</td>\n",
       "    </tr>\n",
       "    <tr>\n",
       "      <th>3</th>\n",
       "      <td>124753354.0</td>\n",
       "      <td>8.321</td>\n",
       "      <td>501.146461</td>\n",
       "      <td>1.0</td>\n",
       "      <td>9.0</td>\n",
       "      <td>2.89</td>\n",
       "      <td>4.0</td>\n",
       "      <td>16.0</td>\n",
       "      <td>5.0</td>\n",
       "      <td>34.0</td>\n",
       "      <td>...</td>\n",
       "      <td>44.567510</td>\n",
       "      <td>0.770304</td>\n",
       "      <td>-0.337273</td>\n",
       "      <td>-0.243732</td>\n",
       "      <td>0.222481</td>\n",
       "      <td>-0.064752</td>\n",
       "      <td>2.0</td>\n",
       "      <td>4.0</td>\n",
       "      <td>40.743589</td>\n",
       "      <td>70.138411</td>\n",
       "    </tr>\n",
       "    <tr>\n",
       "      <th>4</th>\n",
       "      <td>121286038.0</td>\n",
       "      <td>4.515</td>\n",
       "      <td>637.224657</td>\n",
       "      <td>0.0</td>\n",
       "      <td>10.0</td>\n",
       "      <td>4.32</td>\n",
       "      <td>2.0</td>\n",
       "      <td>24.0</td>\n",
       "      <td>4.0</td>\n",
       "      <td>52.0</td>\n",
       "      <td>...</td>\n",
       "      <td>90.067994</td>\n",
       "      <td>0.906852</td>\n",
       "      <td>-0.523297</td>\n",
       "      <td>0.081751</td>\n",
       "      <td>0.016048</td>\n",
       "      <td>0.040308</td>\n",
       "      <td>2.0</td>\n",
       "      <td>6.0</td>\n",
       "      <td>53.306245</td>\n",
       "      <td>97.709755</td>\n",
       "    </tr>\n",
       "  </tbody>\n",
       "</table>\n",
       "<p>5 rows × 216 columns</p>\n",
       "</div>"
      ],
      "text/plain": [
       "       molSIDs  XLogP          MW  LipinskiFailures  nRotB  MLogP  nAtomLAC  \\\n",
       "0  124897530.0  1.135  369.168856               0.0   10.0   2.89       3.0   \n",
       "1  124897303.0  4.498  249.095378               0.0    2.0   3.11       2.0   \n",
       "2  124753561.0  4.554  657.230885               0.0   11.0   4.21       0.0   \n",
       "3  124753354.0  8.321  501.146461               1.0    9.0   2.89       4.0   \n",
       "4  121286038.0  4.515  637.224657               0.0   10.0   4.32       2.0   \n",
       "\n",
       "   nAtomP  nAtomLC    nB    ...           ATSm5     ATSc1     ATSc2     ATSc3  \\\n",
       "0     8.0     10.0  28.0    ...       38.705835  0.587339 -0.212712 -0.098779   \n",
       "1    18.0      2.0  21.0    ...       21.080331  0.140528 -0.058828 -0.015299   \n",
       "2     9.0      4.0  52.0    ...      103.548597  0.986870 -0.554960  0.077083   \n",
       "3    16.0      5.0  34.0    ...       44.567510  0.770304 -0.337273 -0.243732   \n",
       "4    24.0      4.0  52.0    ...       90.067994  0.906852 -0.523297  0.081751   \n",
       "\n",
       "      ATSc4     ATSc5  nHBDon  nHBAcc       bpol       apol  \n",
       "0  0.094417 -0.105979     4.0     6.0  28.677761  57.044239  \n",
       "1  0.003398  0.002364     0.0     1.0  15.641484  39.578516  \n",
       "2  0.204425 -0.347424     0.0     8.0  57.764452  98.933548  \n",
       "3  0.222481 -0.064752     2.0     4.0  40.743589  70.138411  \n",
       "4  0.016048  0.040308     2.0     6.0  53.306245  97.709755  \n",
       "\n",
       "[5 rows x 216 columns]"
      ]
     },
     "execution_count": 9,
     "metadata": {},
     "output_type": "execute_result"
    }
   ],
   "source": [
    "descriptors= descriptors.drop(['Unnamed: 0'], axis =1)\n",
    "descriptors.head()"
   ]
  },
  {
   "cell_type": "code",
   "execution_count": 10,
   "metadata": {
    "collapsed": false
   },
   "outputs": [
    {
     "name": "stderr",
     "output_type": "stream",
     "text": [
      "/Users/daraakdag/anaconda3/lib/python3.5/site-packages/IPython/core/interactiveshell.py:2717: DtypeWarning: Columns (0,8,9,10,11,13,14,15,16,17,18,20,21,22,23,24,25,26,27,28,29,30,31,32,33,34,35,36,37,38,39,40,41,42) have mixed types. Specify dtype option on import or set low_memory=False.\n",
      "  interactivity=interactivity, compiler=compiler, result=result)\n"
     ]
    }
   ],
   "source": [
    "scoreData = pd.read_csv(\"data.csv\");\n",
    "sid_activityScore = scoreData.loc[5:,['PUBCHEM_SID','PUBCHEM_ACTIVITY_SCORE']];"
   ]
  },
  {
   "cell_type": "code",
   "execution_count": 11,
   "metadata": {
    "collapsed": false
   },
   "outputs": [
    {
     "data": {
      "text/html": [
       "<div>\n",
       "<style scoped>\n",
       "    .dataframe tbody tr th:only-of-type {\n",
       "        vertical-align: middle;\n",
       "    }\n",
       "\n",
       "    .dataframe tbody tr th {\n",
       "        vertical-align: top;\n",
       "    }\n",
       "\n",
       "    .dataframe thead th {\n",
       "        text-align: right;\n",
       "    }\n",
       "</style>\n",
       "<table border=\"1\" class=\"dataframe\">\n",
       "  <thead>\n",
       "    <tr style=\"text-align: right;\">\n",
       "      <th></th>\n",
       "      <th>PUBCHEM_SID</th>\n",
       "      <th>PUBCHEM_ACTIVITY_SCORE</th>\n",
       "    </tr>\n",
       "  </thead>\n",
       "  <tbody>\n",
       "    <tr>\n",
       "      <th>5</th>\n",
       "      <td>842121.0</td>\n",
       "      <td>0.0</td>\n",
       "    </tr>\n",
       "    <tr>\n",
       "      <th>6</th>\n",
       "      <td>842122.0</td>\n",
       "      <td>0.0</td>\n",
       "    </tr>\n",
       "    <tr>\n",
       "      <th>7</th>\n",
       "      <td>842123.0</td>\n",
       "      <td>0.0</td>\n",
       "    </tr>\n",
       "    <tr>\n",
       "      <th>8</th>\n",
       "      <td>842124.0</td>\n",
       "      <td>0.0</td>\n",
       "    </tr>\n",
       "    <tr>\n",
       "      <th>9</th>\n",
       "      <td>842125.0</td>\n",
       "      <td>0.0</td>\n",
       "    </tr>\n",
       "  </tbody>\n",
       "</table>\n",
       "</div>"
      ],
      "text/plain": [
       "   PUBCHEM_SID  PUBCHEM_ACTIVITY_SCORE\n",
       "5     842121.0                     0.0\n",
       "6     842122.0                     0.0\n",
       "7     842123.0                     0.0\n",
       "8     842124.0                     0.0\n",
       "9     842125.0                     0.0"
      ]
     },
     "execution_count": 11,
     "metadata": {},
     "output_type": "execute_result"
    }
   ],
   "source": [
    "# Because some columns have mixed values, the pandas dataframe will parse values as floating points.\n",
    "sid_activityScore.head()"
   ]
  },
  {
   "cell_type": "code",
   "execution_count": 12,
   "metadata": {
    "collapsed": false
   },
   "outputs": [],
   "source": [
    "# Convert floating point values to integers. \n",
    "sid_activityScore['PUBCHEM_SID'] = sid_activityScore['PUBCHEM_SID'].astype(np.int64)\n",
    "sid_activityScore['PUBCHEM_ACTIVITY_SCORE'] = sid_activityScore['PUBCHEM_ACTIVITY_SCORE'].astype(np.int64)"
   ]
  },
  {
   "cell_type": "code",
   "execution_count": 13,
   "metadata": {
    "collapsed": false
   },
   "outputs": [
    {
     "data": {
      "text/html": [
       "<div>\n",
       "<style scoped>\n",
       "    .dataframe tbody tr th:only-of-type {\n",
       "        vertical-align: middle;\n",
       "    }\n",
       "\n",
       "    .dataframe tbody tr th {\n",
       "        vertical-align: top;\n",
       "    }\n",
       "\n",
       "    .dataframe thead th {\n",
       "        text-align: right;\n",
       "    }\n",
       "</style>\n",
       "<table border=\"1\" class=\"dataframe\">\n",
       "  <thead>\n",
       "    <tr style=\"text-align: right;\">\n",
       "      <th></th>\n",
       "      <th>PUBCHEM_SID</th>\n",
       "      <th>PUBCHEM_ACTIVITY_SCORE</th>\n",
       "    </tr>\n",
       "  </thead>\n",
       "  <tbody>\n",
       "    <tr>\n",
       "      <th>5</th>\n",
       "      <td>842121</td>\n",
       "      <td>0</td>\n",
       "    </tr>\n",
       "    <tr>\n",
       "      <th>6</th>\n",
       "      <td>842122</td>\n",
       "      <td>0</td>\n",
       "    </tr>\n",
       "    <tr>\n",
       "      <th>7</th>\n",
       "      <td>842123</td>\n",
       "      <td>0</td>\n",
       "    </tr>\n",
       "    <tr>\n",
       "      <th>8</th>\n",
       "      <td>842124</td>\n",
       "      <td>0</td>\n",
       "    </tr>\n",
       "    <tr>\n",
       "      <th>9</th>\n",
       "      <td>842125</td>\n",
       "      <td>0</td>\n",
       "    </tr>\n",
       "  </tbody>\n",
       "</table>\n",
       "</div>"
      ],
      "text/plain": [
       "   PUBCHEM_SID  PUBCHEM_ACTIVITY_SCORE\n",
       "5       842121                       0\n",
       "6       842122                       0\n",
       "7       842123                       0\n",
       "8       842124                       0\n",
       "9       842125                       0"
      ]
     },
     "execution_count": 13,
     "metadata": {},
     "output_type": "execute_result"
    }
   ],
   "source": [
    "sid_activityScore.head()"
   ]
  },
  {
   "cell_type": "code",
   "execution_count": 14,
   "metadata": {
    "collapsed": true
   },
   "outputs": [],
   "source": [
    "# Insert activity score column with values 0\n",
    "descriptors.insert(0,'ActivityScore',int(0))"
   ]
  },
  {
   "cell_type": "code",
   "execution_count": null,
   "metadata": {
    "collapsed": false
   },
   "outputs": [
    {
     "data": {
      "text/html": [
       "<div>\n",
       "<style scoped>\n",
       "    .dataframe tbody tr th:only-of-type {\n",
       "        vertical-align: middle;\n",
       "    }\n",
       "\n",
       "    .dataframe tbody tr th {\n",
       "        vertical-align: top;\n",
       "    }\n",
       "\n",
       "    .dataframe thead th {\n",
       "        text-align: right;\n",
       "    }\n",
       "</style>\n",
       "<table border=\"1\" class=\"dataframe\">\n",
       "  <thead>\n",
       "    <tr style=\"text-align: right;\">\n",
       "      <th></th>\n",
       "      <th>ActivityScore</th>\n",
       "      <th>molSIDs</th>\n",
       "      <th>XLogP</th>\n",
       "      <th>MW</th>\n",
       "      <th>LipinskiFailures</th>\n",
       "      <th>nRotB</th>\n",
       "      <th>MLogP</th>\n",
       "      <th>nAtomLAC</th>\n",
       "      <th>nAtomP</th>\n",
       "      <th>nAtomLC</th>\n",
       "      <th>...</th>\n",
       "      <th>ATSm5</th>\n",
       "      <th>ATSc1</th>\n",
       "      <th>ATSc2</th>\n",
       "      <th>ATSc3</th>\n",
       "      <th>ATSc4</th>\n",
       "      <th>ATSc5</th>\n",
       "      <th>nHBDon</th>\n",
       "      <th>nHBAcc</th>\n",
       "      <th>bpol</th>\n",
       "      <th>apol</th>\n",
       "    </tr>\n",
       "  </thead>\n",
       "  <tbody>\n",
       "    <tr>\n",
       "      <th>1045</th>\n",
       "      <td>0</td>\n",
       "      <td>843609.0</td>\n",
       "      <td>3.454</td>\n",
       "      <td>321.114713</td>\n",
       "      <td>0.0</td>\n",
       "      <td>8.0</td>\n",
       "      <td>2.34</td>\n",
       "      <td>2.0</td>\n",
       "      <td>12.0</td>\n",
       "      <td>6.0</td>\n",
       "      <td>...</td>\n",
       "      <td>35.829365</td>\n",
       "      <td>0.560950</td>\n",
       "      <td>-0.360243</td>\n",
       "      <td>0.116596</td>\n",
       "      <td>0.019901</td>\n",
       "      <td>-0.292837</td>\n",
       "      <td>0.0</td>\n",
       "      <td>4.0</td>\n",
       "      <td>31.140933</td>\n",
       "      <td>47.675067</td>\n",
       "    </tr>\n",
       "    <tr>\n",
       "      <th>1046</th>\n",
       "      <td>0</td>\n",
       "      <td>843396.0</td>\n",
       "      <td>2.894</td>\n",
       "      <td>334.121195</td>\n",
       "      <td>0.0</td>\n",
       "      <td>3.0</td>\n",
       "      <td>2.01</td>\n",
       "      <td>0.0</td>\n",
       "      <td>11.0</td>\n",
       "      <td>3.0</td>\n",
       "      <td>...</td>\n",
       "      <td>52.683298</td>\n",
       "      <td>0.668867</td>\n",
       "      <td>-0.550880</td>\n",
       "      <td>0.466517</td>\n",
       "      <td>-0.486335</td>\n",
       "      <td>0.420218</td>\n",
       "      <td>0.0</td>\n",
       "      <td>6.0</td>\n",
       "      <td>34.433726</td>\n",
       "      <td>47.746274</td>\n",
       "    </tr>\n",
       "    <tr>\n",
       "      <th>1047</th>\n",
       "      <td>0</td>\n",
       "      <td>843202.0</td>\n",
       "      <td>1.316</td>\n",
       "      <td>423.179421</td>\n",
       "      <td>0.0</td>\n",
       "      <td>6.0</td>\n",
       "      <td>3.11</td>\n",
       "      <td>2.0</td>\n",
       "      <td>13.0</td>\n",
       "      <td>3.0</td>\n",
       "      <td>...</td>\n",
       "      <td>53.978743</td>\n",
       "      <td>0.889698</td>\n",
       "      <td>-0.472932</td>\n",
       "      <td>-0.151360</td>\n",
       "      <td>0.434316</td>\n",
       "      <td>-0.400282</td>\n",
       "      <td>1.0</td>\n",
       "      <td>7.0</td>\n",
       "      <td>38.656175</td>\n",
       "      <td>64.459825</td>\n",
       "    </tr>\n",
       "    <tr>\n",
       "      <th>1048</th>\n",
       "      <td>0</td>\n",
       "      <td>842577.0</td>\n",
       "      <td>2.752</td>\n",
       "      <td>271.024932</td>\n",
       "      <td>0.0</td>\n",
       "      <td>4.0</td>\n",
       "      <td>1.79</td>\n",
       "      <td>0.0</td>\n",
       "      <td>7.0</td>\n",
       "      <td>2.0</td>\n",
       "      <td>...</td>\n",
       "      <td>25.532622</td>\n",
       "      <td>0.344138</td>\n",
       "      <td>-0.179113</td>\n",
       "      <td>-0.030790</td>\n",
       "      <td>0.078024</td>\n",
       "      <td>-0.033099</td>\n",
       "      <td>1.0</td>\n",
       "      <td>3.0</td>\n",
       "      <td>19.271070</td>\n",
       "      <td>34.726930</td>\n",
       "    </tr>\n",
       "    <tr>\n",
       "      <th>1049</th>\n",
       "      <td>0</td>\n",
       "      <td>842218.0</td>\n",
       "      <td>3.820</td>\n",
       "      <td>368.140389</td>\n",
       "      <td>0.0</td>\n",
       "      <td>4.0</td>\n",
       "      <td>3.00</td>\n",
       "      <td>2.0</td>\n",
       "      <td>9.0</td>\n",
       "      <td>3.0</td>\n",
       "      <td>...</td>\n",
       "      <td>39.468120</td>\n",
       "      <td>0.326019</td>\n",
       "      <td>-0.097623</td>\n",
       "      <td>-0.115749</td>\n",
       "      <td>0.072170</td>\n",
       "      <td>0.032923</td>\n",
       "      <td>0.0</td>\n",
       "      <td>4.0</td>\n",
       "      <td>28.295347</td>\n",
       "      <td>56.584653</td>\n",
       "    </tr>\n",
       "  </tbody>\n",
       "</table>\n",
       "<p>5 rows × 217 columns</p>\n",
       "</div>"
      ],
      "text/plain": [
       "      ActivityScore   molSIDs  XLogP          MW  LipinskiFailures  nRotB  \\\n",
       "1045              0  843609.0  3.454  321.114713               0.0    8.0   \n",
       "1046              0  843396.0  2.894  334.121195               0.0    3.0   \n",
       "1047              0  843202.0  1.316  423.179421               0.0    6.0   \n",
       "1048              0  842577.0  2.752  271.024932               0.0    4.0   \n",
       "1049              0  842218.0  3.820  368.140389               0.0    4.0   \n",
       "\n",
       "      MLogP  nAtomLAC  nAtomP  nAtomLC    ...          ATSm5     ATSc1  \\\n",
       "1045   2.34       2.0    12.0      6.0    ...      35.829365  0.560950   \n",
       "1046   2.01       0.0    11.0      3.0    ...      52.683298  0.668867   \n",
       "1047   3.11       2.0    13.0      3.0    ...      53.978743  0.889698   \n",
       "1048   1.79       0.0     7.0      2.0    ...      25.532622  0.344138   \n",
       "1049   3.00       2.0     9.0      3.0    ...      39.468120  0.326019   \n",
       "\n",
       "         ATSc2     ATSc3     ATSc4     ATSc5  nHBDon  nHBAcc       bpol  \\\n",
       "1045 -0.360243  0.116596  0.019901 -0.292837     0.0     4.0  31.140933   \n",
       "1046 -0.550880  0.466517 -0.486335  0.420218     0.0     6.0  34.433726   \n",
       "1047 -0.472932 -0.151360  0.434316 -0.400282     1.0     7.0  38.656175   \n",
       "1048 -0.179113 -0.030790  0.078024 -0.033099     1.0     3.0  19.271070   \n",
       "1049 -0.097623 -0.115749  0.072170  0.032923     0.0     4.0  28.295347   \n",
       "\n",
       "           apol  \n",
       "1045  47.675067  \n",
       "1046  47.746274  \n",
       "1047  64.459825  \n",
       "1048  34.726930  \n",
       "1049  56.584653  \n",
       "\n",
       "[5 rows x 217 columns]"
      ]
     },
     "execution_count": 15,
     "metadata": {},
     "output_type": "execute_result"
    }
   ],
   "source": [
    "descriptors.tail()"
   ]
  },
  {
   "cell_type": "code",
   "execution_count": null,
   "metadata": {
    "collapsed": false
   },
   "outputs": [],
   "source": [
    "# Lookup activity scores for each molSID of descriptors matrix in the sid_activityScore dataframe \n",
    "# and insert activity score into descriptor matrix. \n",
    "for idx,val in enumerate(descriptors['molSIDs']):\n",
    "    temp = sid_activityScore.loc[sid_activityScore['PUBCHEM_SID']==val];\n",
    "    score = temp.iloc[0][1]\n",
    "    descriptors.at[idx,'ActivityScore'] = score;\n"
   ]
  },
  {
   "cell_type": "code",
   "execution_count": null,
   "metadata": {
    "collapsed": false
   },
   "outputs": [],
   "source": [
    "descriptors.head()"
   ]
  },
  {
   "cell_type": "markdown",
   "metadata": {},
   "source": [
    "# Create training and test distributions"
   ]
  },
  {
   "cell_type": "code",
   "execution_count": null,
   "metadata": {
    "collapsed": true
   },
   "outputs": [],
   "source": [
    "# Initialise Data and Label variables X and Y from dataframe.\n",
    "# X matrix is cut from 2nd index to exclude molecule SIDs. \n",
    "# Y is just the activity scores of the descriptors matrix.\n",
    "X, Y = descriptors.iloc[:,2:].values, descriptors.iloc[:,0].values"
   ]
  },
  {
   "cell_type": "code",
   "execution_count": null,
   "metadata": {
    "collapsed": false
   },
   "outputs": [],
   "source": [
    "print(\"X contains all variables with shape \",X.shape)\n",
    "print(\"Y contains all labels with shape \",Y.shape)"
   ]
  },
  {
   "cell_type": "code",
   "execution_count": null,
   "metadata": {
    "collapsed": false
   },
   "outputs": [],
   "source": [
    "# Create test and training sets with 20:80 distribution\n",
    "X_train, X_test, Y_train, Y_test = train_test_split(X, Y, test_size = 0.2, random_state = 2423)\n",
    "print('Training data dimensions',X_train.shape, 'and trainng labels dimensions', Y_train.shape)\n",
    "print('Test data dimensions', X_test.shape,'and trainng labels dimensions', Y_test.shape)"
   ]
  },
  {
   "cell_type": "code",
   "execution_count": null,
   "metadata": {
    "collapsed": false
   },
   "outputs": [],
   "source": [
    "# Create standard scaler and use it to standardize training and test data\n",
    "# Standardize features by removing the mean and scaling to unit variance\n",
    "stdsc = StandardScaler()\n",
    "X_train = stdsc.fit_transform(X_train)\n",
    "X_test = stdsc.transform(X_test)"
   ]
  },
  {
   "cell_type": "markdown",
   "metadata": {},
   "source": [
    "# Data Exploration"
   ]
  },
  {
   "cell_type": "code",
   "execution_count": null,
   "metadata": {
    "collapsed": false
   },
   "outputs": [],
   "source": [
    "descriptors.ActivityScore.plot.box()"
   ]
  },
  {
   "cell_type": "markdown",
   "metadata": {},
   "source": [
    "The above boxplot shows most our values are around zero with few outliers around 50 and 100 in activity score."
   ]
  },
  {
   "cell_type": "code",
   "execution_count": null,
   "metadata": {
    "collapsed": false
   },
   "outputs": [],
   "source": [
    "#PCA\n",
    "scaled_X= StandardScaler().fit_transform(X)\n",
    "# create PCA \n",
    "pca = PCA(n_components = 2)\n",
    "# Transform scaled data to compute principal components of X\n",
    "principalComponents = pca.fit_transform(scaled_X)\n",
    "# Convert principal components to pandas data frame\n",
    "principalDf = pd.DataFrame(data = principalComponents, columns=['Principal Component 1','principal Component2'])\n",
    "print(principalDf.head())"
   ]
  },
  {
   "cell_type": "code",
   "execution_count": null,
   "metadata": {
    "collapsed": false
   },
   "outputs": [],
   "source": [
    "# Make scatterplot of principal components \n",
    "plt.scatter(principalComponents[:, 0], principalComponents[:, 1], c=list(descriptors.ActivityScore)) \n",
    "plt.xlabel(\"Principal component 1\")\n",
    "plt.ylabel(\"Principal component 2\")\n",
    "plt.colorbar()"
   ]
  },
  {
   "cell_type": "markdown",
   "metadata": {},
   "source": [
    "The colorbar shows activity scores from 0-100"
   ]
  },
  {
   "cell_type": "code",
   "execution_count": null,
   "metadata": {
    "collapsed": false
   },
   "outputs": [],
   "source": [
    "print(\"The first component of the PCA explains \", pca.explained_variance_ratio_[0], \"% of the variance\")\n",
    "print(\"The second component of the PCA explains \", pca.explained_variance_ratio_[1], \"% of the variance\")"
   ]
  },
  {
   "cell_type": "markdown",
   "metadata": {},
   "source": [
    "# Investigate multicolinearity"
   ]
  },
  {
   "cell_type": "code",
   "execution_count": null,
   "metadata": {
    "collapsed": false
   },
   "outputs": [],
   "source": [
    "# Calculate correlations between descriptors\n",
    "descrptCorr = np.array(descriptors.corr())\n",
    "# Fill the diagonal with zeros to easier view the multicolinearitie across descriptors\n",
    "np.fill_diagonal(descrptCorr,0)\n",
    "# Mask of values of correlation above 0.99\n",
    "maskCorrAbove1 = np.where(descrptCorr>0.99)\n",
    "# Use mask to select descriptors where correlation is above 0.99\n",
    "descriptorsCorrAbove1 = list(set(np.array(list(descriptors))[maskCorrAbove1[0]]))"
   ]
  },
  {
   "cell_type": "code",
   "execution_count": null,
   "metadata": {
    "collapsed": false
   },
   "outputs": [],
   "source": [
    "# Make plot large.\n",
    "plt.rcParams[\"figure.figsize\"] = (15,15)\n",
    "# plot heatmap of \n",
    "heatmapDescriptors = sns.heatmap(descriptors[descriptorsCorrAbove1].corr(),annot=True, fmt = \".2f\", cmap = \"coolwarm\")"
   ]
  },
  {
   "cell_type": "markdown",
   "metadata": {},
   "source": [
    "The heatmap shows descriptors that have a colinearity of 1. These could be removed to see how it influences predicion accuracies. "
   ]
  },
  {
   "cell_type": "markdown",
   "metadata": {},
   "source": [
    "# Data analysis"
   ]
  },
  {
   "cell_type": "code",
   "execution_count": null,
   "metadata": {
    "collapsed": false
   },
   "outputs": [],
   "source": [
    "# Create PLS model\n",
    "pls1 = PLSRegression(n_components=3)\n",
    "# Fit the model to training data\n",
    "pls1.fit(X_train, Y_train)"
   ]
  },
  {
   "cell_type": "code",
   "execution_count": null,
   "metadata": {
    "collapsed": false
   },
   "outputs": [],
   "source": [
    "# Run model with crossvalidation on the test set with cross validation partitions 3\n",
    "scores = cross_val_score(pls1,X_test,Y_test, cv = 3)"
   ]
  },
  {
   "cell_type": "code",
   "execution_count": null,
   "metadata": {
    "collapsed": false
   },
   "outputs": [],
   "source": [
    "print(\"Accuracy: %0.2f (+/- %0.2f)\" % (scores.mean(), scores.std() * 2))"
   ]
  },
  {
   "cell_type": "code",
   "execution_count": null,
   "metadata": {
    "collapsed": false
   },
   "outputs": [],
   "source": [
    "scores"
   ]
  },
  {
   "cell_type": "code",
   "execution_count": null,
   "metadata": {
    "collapsed": false
   },
   "outputs": [],
   "source": [
    "# Create Elastic Net model\n",
    "ENreg = ElasticNet(alpha=1, l1_ratio=0.5, normalize=False)\n",
    "# Fit model to training data\n",
    "ENreg.fit(X_train,Y_train)"
   ]
  },
  {
   "cell_type": "code",
   "execution_count": null,
   "metadata": {
    "collapsed": false
   },
   "outputs": [],
   "source": [
    "# Estimate score on test data\n",
    "print(\"Accuracy score of model on test data yields \", ENreg.score(X_test,Y_test))\n"
   ]
  },
  {
   "cell_type": "code",
   "execution_count": null,
   "metadata": {
    "collapsed": false
   },
   "outputs": [],
   "source": [
    "# Create ridge regression model with alpha 0.5\n",
    "ridgeReg = Ridge(alpha=0.5)\n",
    "# Fit model to training data\n",
    "ridgeReg.fit(X_train, Y_train) \n"
   ]
  },
  {
   "cell_type": "code",
   "execution_count": null,
   "metadata": {
    "collapsed": false
   },
   "outputs": [],
   "source": [
    "# Estimate score on test data\n",
    "print(\"Accuracy score of model on test data yields \", ridgeReg.score(X_test,Y_test))"
   ]
  },
  {
   "cell_type": "code",
   "execution_count": null,
   "metadata": {
    "collapsed": false
   },
   "outputs": [],
   "source": [
    "# Create lasso regression model\n",
    "lassoReg = Lasso(alpha=0.3, normalize=True)\n",
    "# Fit model to training data\n",
    "lassoReg.fit(X_train,Y_train)"
   ]
  },
  {
   "cell_type": "code",
   "execution_count": null,
   "metadata": {
    "collapsed": false
   },
   "outputs": [],
   "source": [
    "# estimate score on test data\n",
    "print(\"Accuracy score of model on test data yields \", lassoReg.score(X_test,Y_test))"
   ]
  },
  {
   "cell_type": "markdown",
   "metadata": {},
   "source": [
    "# Conclusion\n",
    "As we can see all our models do not give any indication of a correlation pattern across the different descriptors. It would be interesting to investigate more feature selection algorithms and perhaps remove entries which have 0 in activity score, and see how this would affect the prediction models. "
   ]
  }
 ],
 "metadata": {
  "anaconda-cloud": {},
  "kernelspec": {
   "display_name": "Python [conda env:anaconda3]",
   "language": "python",
   "name": "conda-env-anaconda3-py"
  },
  "language_info": {
   "codemirror_mode": {
    "name": "ipython",
    "version": 3
   },
   "file_extension": ".py",
   "mimetype": "text/x-python",
   "name": "python",
   "nbconvert_exporter": "python",
   "pygments_lexer": "ipython3",
   "version": "3.5.2"
  }
 },
 "nbformat": 4,
 "nbformat_minor": 1
}
