{
 "cells": [
  {
   "cell_type": "code",
   "execution_count": 293,
   "metadata": {
    "collapsed": true
   },
   "outputs": [],
   "source": [
    "import pandas as pd\n",
    "import numpy as np\n",
    "from sklearn.model_selection import train_test_split\n",
    "from sklearn.cross_decomposition import PLSRegression\n"
   ]
  },
  {
   "cell_type": "markdown",
   "metadata": {},
   "source": [
    "# Data Preparation"
   ]
  },
  {
   "cell_type": "code",
   "execution_count": 294,
   "metadata": {
    "collapsed": false
   },
   "outputs": [
    {
     "name": "stdout",
     "output_type": "stream",
     "text": [
      "Dimensions of data frame is (1050, 247)\n"
     ]
    }
   ],
   "source": [
    "descriptors = pd.read_csv(\"descriptors.csv\");\n",
    "print('Dimensions of data frame is', descriptors.shape);"
   ]
  },
  {
   "cell_type": "code",
   "execution_count": 295,
   "metadata": {
    "collapsed": false
   },
   "outputs": [
    {
     "name": "stdout",
     "output_type": "stream",
     "text": [
      "There are 31503 null values in the dataframe\n",
      "Dimensions of data frame are (1050, 217)\n"
     ]
    }
   ],
   "source": [
    "nNullVals = descriptors.isnull().sum().sum()\n",
    "print('There are', nNullVals, 'null values in the dataframe')\n",
    "# Remove columns where all values are na.\n",
    "descriptors = descriptors.dropna(axis='columns', how='all');\n",
    "print('Dimensions of data frame are', descriptors.shape);"
   ]
  },
  {
   "cell_type": "code",
   "execution_count": 296,
   "metadata": {
    "collapsed": false
   },
   "outputs": [
    {
     "name": "stdout",
     "output_type": "stream",
     "text": [
      "There are 3 nans in the dataframe\n"
     ]
    }
   ],
   "source": [
    "# There still might be some NaNs in each of the rows.\n",
    "nans = np.isnan(descriptors).sum().sum()\n",
    "print('There are', nans, 'nans in the dataframe')"
   ]
  },
  {
   "cell_type": "code",
   "execution_count": 298,
   "metadata": {
    "collapsed": false
   },
   "outputs": [],
   "source": [
    "# Method for imputing nans with mean of the column, \n",
    "# so we don't have to remove the whole row if a couple of values are missing\n",
    "def imputeNansWithMean (X):\n",
    "    # convert to numpy array\n",
    "    header = list(X)\n",
    "    X = X.values\n",
    "    \n",
    "    if (np.isnan(X).sum()==0):\n",
    "        print(\"No nans\")\n",
    "        return X\n",
    "    # Array of NaN indices\n",
    "    nans= np.argwhere(np.isnan(X))\n",
    "    # Loop through NaNs and impute indices with means of the whole column\n",
    "    for i in range(np.size(nans,0)):\n",
    "        X[nans[i][0],nans[i][1]] = np.nanmean(X[:,nans[i][1]])\n",
    "    return pd.DataFrame(data = X, columns = header)\n",
    "        "
   ]
  },
  {
   "cell_type": "code",
   "execution_count": 299,
   "metadata": {
    "collapsed": false
   },
   "outputs": [],
   "source": [
    "descriptors = imputeNansWithMean(descriptors)"
   ]
  },
  {
   "cell_type": "code",
   "execution_count": 315,
   "metadata": {
    "collapsed": false
   },
   "outputs": [
    {
     "name": "stdout",
     "output_type": "stream",
     "text": [
      "There are 0 nans in the dataframe\n"
     ]
    }
   ],
   "source": [
    "# There still might be some NaNs in each of the rows.\n",
    "nans = np.isnan(descriptors).sum().sum()\n",
    "print('There are', nans, 'nans in the dataframe')"
   ]
  },
  {
   "cell_type": "code",
   "execution_count": 301,
   "metadata": {
    "collapsed": false
   },
   "outputs": [
    {
     "data": {
      "text/html": [
       "<div>\n",
       "<table border=\"1\" class=\"dataframe\">\n",
       "  <thead>\n",
       "    <tr style=\"text-align: right;\">\n",
       "      <th></th>\n",
       "      <th>molSIDs</th>\n",
       "      <th>XLogP</th>\n",
       "      <th>MW</th>\n",
       "      <th>LipinskiFailures</th>\n",
       "      <th>nRotB</th>\n",
       "      <th>MLogP</th>\n",
       "      <th>nAtomLAC</th>\n",
       "      <th>...</th>\n",
       "      <th>ATSc3</th>\n",
       "      <th>ATSc4</th>\n",
       "      <th>ATSc5</th>\n",
       "      <th>nHBDon</th>\n",
       "      <th>nHBAcc</th>\n",
       "      <th>bpol</th>\n",
       "      <th>apol</th>\n",
       "    </tr>\n",
       "  </thead>\n",
       "  <tbody>\n",
       "    <tr>\n",
       "      <th>0</th>\n",
       "      <td>124897530.0</td>\n",
       "      <td>1.135</td>\n",
       "      <td>369.168856</td>\n",
       "      <td>0.0</td>\n",
       "      <td>10.0</td>\n",
       "      <td>2.89</td>\n",
       "      <td>3.0</td>\n",
       "      <td>...</td>\n",
       "      <td>-0.098779</td>\n",
       "      <td>0.094417</td>\n",
       "      <td>-0.105979</td>\n",
       "      <td>4.0</td>\n",
       "      <td>6.0</td>\n",
       "      <td>28.677761</td>\n",
       "      <td>57.044239</td>\n",
       "    </tr>\n",
       "    <tr>\n",
       "      <th>1</th>\n",
       "      <td>124897303.0</td>\n",
       "      <td>4.498</td>\n",
       "      <td>249.095378</td>\n",
       "      <td>0.0</td>\n",
       "      <td>2.0</td>\n",
       "      <td>3.11</td>\n",
       "      <td>2.0</td>\n",
       "      <td>...</td>\n",
       "      <td>-0.015299</td>\n",
       "      <td>0.003398</td>\n",
       "      <td>0.002364</td>\n",
       "      <td>0.0</td>\n",
       "      <td>1.0</td>\n",
       "      <td>15.641484</td>\n",
       "      <td>39.578516</td>\n",
       "    </tr>\n",
       "    <tr>\n",
       "      <th>2</th>\n",
       "      <td>124753561.0</td>\n",
       "      <td>4.554</td>\n",
       "      <td>657.230885</td>\n",
       "      <td>0.0</td>\n",
       "      <td>11.0</td>\n",
       "      <td>4.21</td>\n",
       "      <td>0.0</td>\n",
       "      <td>...</td>\n",
       "      <td>0.077083</td>\n",
       "      <td>0.204425</td>\n",
       "      <td>-0.347424</td>\n",
       "      <td>0.0</td>\n",
       "      <td>8.0</td>\n",
       "      <td>57.764452</td>\n",
       "      <td>98.933548</td>\n",
       "    </tr>\n",
       "    <tr>\n",
       "      <th>3</th>\n",
       "      <td>124753354.0</td>\n",
       "      <td>8.321</td>\n",
       "      <td>501.146461</td>\n",
       "      <td>1.0</td>\n",
       "      <td>9.0</td>\n",
       "      <td>2.89</td>\n",
       "      <td>4.0</td>\n",
       "      <td>...</td>\n",
       "      <td>-0.243732</td>\n",
       "      <td>0.222481</td>\n",
       "      <td>-0.064752</td>\n",
       "      <td>2.0</td>\n",
       "      <td>4.0</td>\n",
       "      <td>40.743589</td>\n",
       "      <td>70.138411</td>\n",
       "    </tr>\n",
       "    <tr>\n",
       "      <th>4</th>\n",
       "      <td>121286038.0</td>\n",
       "      <td>4.515</td>\n",
       "      <td>637.224657</td>\n",
       "      <td>0.0</td>\n",
       "      <td>10.0</td>\n",
       "      <td>4.32</td>\n",
       "      <td>2.0</td>\n",
       "      <td>...</td>\n",
       "      <td>0.081751</td>\n",
       "      <td>0.016048</td>\n",
       "      <td>0.040308</td>\n",
       "      <td>2.0</td>\n",
       "      <td>6.0</td>\n",
       "      <td>53.306245</td>\n",
       "      <td>97.709755</td>\n",
       "    </tr>\n",
       "  </tbody>\n",
       "</table>\n",
       "<p>5 rows × 216 columns</p>\n",
       "</div>"
      ],
      "text/plain": [
       "       molSIDs  XLogP          MW  LipinskiFailures  nRotB  MLogP  nAtomLAC  \\\n",
       "0  124897530.0  1.135  369.168856               0.0   10.0   2.89       3.0   \n",
       "1  124897303.0  4.498  249.095378               0.0    2.0   3.11       2.0   \n",
       "2  124753561.0  4.554  657.230885               0.0   11.0   4.21       0.0   \n",
       "3  124753354.0  8.321  501.146461               1.0    9.0   2.89       4.0   \n",
       "4  121286038.0  4.515  637.224657               0.0   10.0   4.32       2.0   \n",
       "\n",
       "     ...         ATSc3     ATSc4     ATSc5  nHBDon  nHBAcc       bpol  \\\n",
       "0    ...     -0.098779  0.094417 -0.105979     4.0     6.0  28.677761   \n",
       "1    ...     -0.015299  0.003398  0.002364     0.0     1.0  15.641484   \n",
       "2    ...      0.077083  0.204425 -0.347424     0.0     8.0  57.764452   \n",
       "3    ...     -0.243732  0.222481 -0.064752     2.0     4.0  40.743589   \n",
       "4    ...      0.081751  0.016048  0.040308     2.0     6.0  53.306245   \n",
       "\n",
       "        apol  \n",
       "0  57.044239  \n",
       "1  39.578516  \n",
       "2  98.933548  \n",
       "3  70.138411  \n",
       "4  97.709755  \n",
       "\n",
       "[5 rows x 216 columns]"
      ]
     },
     "execution_count": 301,
     "metadata": {},
     "output_type": "execute_result"
    }
   ],
   "source": [
    "descriptors= descriptors.drop(['Unnamed: 0'], axis =1)\n",
    "descriptors.head()"
   ]
  },
  {
   "cell_type": "code",
   "execution_count": 302,
   "metadata": {
    "collapsed": false
   },
   "outputs": [
    {
     "name": "stderr",
     "output_type": "stream",
     "text": [
      "/Users/daraakdag/anaconda3/lib/python3.5/site-packages/IPython/core/interactiveshell.py:2717: DtypeWarning: Columns (0,8,9,10,11,13,14,15,16,17,18,20,21,22,23,24,25,26,27,28,29,30,31,32,33,34,35,36,37,38,39,40,41,42) have mixed types. Specify dtype option on import or set low_memory=False.\n",
      "  interactivity=interactivity, compiler=compiler, result=result)\n"
     ]
    }
   ],
   "source": [
    "scoreData = pd.read_csv(\"data.csv\");\n",
    "sid_activityScore = scoreData.loc[5:,['PUBCHEM_SID','PUBCHEM_ACTIVITY_SCORE']];"
   ]
  },
  {
   "cell_type": "code",
   "execution_count": null,
   "metadata": {
    "collapsed": true
   },
   "outputs": [],
   "source": []
  },
  {
   "cell_type": "code",
   "execution_count": 303,
   "metadata": {
    "collapsed": false
   },
   "outputs": [
    {
     "data": {
      "text/html": [
       "<div>\n",
       "<table border=\"1\" class=\"dataframe\">\n",
       "  <thead>\n",
       "    <tr style=\"text-align: right;\">\n",
       "      <th></th>\n",
       "      <th>PUBCHEM_SID</th>\n",
       "      <th>PUBCHEM_ACTIVITY_SCORE</th>\n",
       "    </tr>\n",
       "  </thead>\n",
       "  <tbody>\n",
       "    <tr>\n",
       "      <th>5</th>\n",
       "      <td>842121.0</td>\n",
       "      <td>0.0</td>\n",
       "    </tr>\n",
       "    <tr>\n",
       "      <th>6</th>\n",
       "      <td>842122.0</td>\n",
       "      <td>0.0</td>\n",
       "    </tr>\n",
       "    <tr>\n",
       "      <th>7</th>\n",
       "      <td>842123.0</td>\n",
       "      <td>0.0</td>\n",
       "    </tr>\n",
       "    <tr>\n",
       "      <th>8</th>\n",
       "      <td>842124.0</td>\n",
       "      <td>0.0</td>\n",
       "    </tr>\n",
       "    <tr>\n",
       "      <th>9</th>\n",
       "      <td>842125.0</td>\n",
       "      <td>0.0</td>\n",
       "    </tr>\n",
       "  </tbody>\n",
       "</table>\n",
       "</div>"
      ],
      "text/plain": [
       "   PUBCHEM_SID  PUBCHEM_ACTIVITY_SCORE\n",
       "5     842121.0                     0.0\n",
       "6     842122.0                     0.0\n",
       "7     842123.0                     0.0\n",
       "8     842124.0                     0.0\n",
       "9     842125.0                     0.0"
      ]
     },
     "execution_count": 303,
     "metadata": {},
     "output_type": "execute_result"
    }
   ],
   "source": [
    "# Because some columns have mixed values, the pandas dataframe will parse values as floating points.\n",
    "sid_activityScore.head()"
   ]
  },
  {
   "cell_type": "code",
   "execution_count": 304,
   "metadata": {
    "collapsed": false
   },
   "outputs": [],
   "source": [
    "# Convert floating point values to integers. \n",
    "sid_activityScore['PUBCHEM_SID'] = sid_activityScore['PUBCHEM_SID'].astype(np.int64)\n",
    "sid_activityScore['PUBCHEM_ACTIVITY_SCORE'] = sid_activityScore['PUBCHEM_ACTIVITY_SCORE'].astype(np.int64)"
   ]
  },
  {
   "cell_type": "code",
   "execution_count": 305,
   "metadata": {
    "collapsed": false
   },
   "outputs": [
    {
     "data": {
      "text/html": [
       "<div>\n",
       "<table border=\"1\" class=\"dataframe\">\n",
       "  <thead>\n",
       "    <tr style=\"text-align: right;\">\n",
       "      <th></th>\n",
       "      <th>PUBCHEM_SID</th>\n",
       "      <th>PUBCHEM_ACTIVITY_SCORE</th>\n",
       "    </tr>\n",
       "  </thead>\n",
       "  <tbody>\n",
       "    <tr>\n",
       "      <th>5</th>\n",
       "      <td>842121</td>\n",
       "      <td>0</td>\n",
       "    </tr>\n",
       "    <tr>\n",
       "      <th>6</th>\n",
       "      <td>842122</td>\n",
       "      <td>0</td>\n",
       "    </tr>\n",
       "    <tr>\n",
       "      <th>7</th>\n",
       "      <td>842123</td>\n",
       "      <td>0</td>\n",
       "    </tr>\n",
       "    <tr>\n",
       "      <th>8</th>\n",
       "      <td>842124</td>\n",
       "      <td>0</td>\n",
       "    </tr>\n",
       "    <tr>\n",
       "      <th>9</th>\n",
       "      <td>842125</td>\n",
       "      <td>0</td>\n",
       "    </tr>\n",
       "  </tbody>\n",
       "</table>\n",
       "</div>"
      ],
      "text/plain": [
       "   PUBCHEM_SID  PUBCHEM_ACTIVITY_SCORE\n",
       "5       842121                       0\n",
       "6       842122                       0\n",
       "7       842123                       0\n",
       "8       842124                       0\n",
       "9       842125                       0"
      ]
     },
     "execution_count": 305,
     "metadata": {},
     "output_type": "execute_result"
    }
   ],
   "source": [
    "sid_activityScore.head()"
   ]
  },
  {
   "cell_type": "code",
   "execution_count": 306,
   "metadata": {
    "collapsed": true
   },
   "outputs": [],
   "source": [
    "# Insert activity score column with values 0\n",
    "descriptors.insert(0,'ActivityScore',int(0))"
   ]
  },
  {
   "cell_type": "code",
   "execution_count": 307,
   "metadata": {
    "collapsed": false
   },
   "outputs": [
    {
     "data": {
      "text/html": [
       "<div>\n",
       "<table border=\"1\" class=\"dataframe\">\n",
       "  <thead>\n",
       "    <tr style=\"text-align: right;\">\n",
       "      <th></th>\n",
       "      <th>ActivityScore</th>\n",
       "      <th>molSIDs</th>\n",
       "      <th>XLogP</th>\n",
       "      <th>MW</th>\n",
       "      <th>LipinskiFailures</th>\n",
       "      <th>nRotB</th>\n",
       "      <th>MLogP</th>\n",
       "      <th>...</th>\n",
       "      <th>ATSc3</th>\n",
       "      <th>ATSc4</th>\n",
       "      <th>ATSc5</th>\n",
       "      <th>nHBDon</th>\n",
       "      <th>nHBAcc</th>\n",
       "      <th>bpol</th>\n",
       "      <th>apol</th>\n",
       "    </tr>\n",
       "  </thead>\n",
       "  <tbody>\n",
       "    <tr>\n",
       "      <th>1045</th>\n",
       "      <td>0</td>\n",
       "      <td>843609.0</td>\n",
       "      <td>3.454</td>\n",
       "      <td>321.114713</td>\n",
       "      <td>0.0</td>\n",
       "      <td>8.0</td>\n",
       "      <td>2.34</td>\n",
       "      <td>...</td>\n",
       "      <td>0.116596</td>\n",
       "      <td>0.019901</td>\n",
       "      <td>-0.292837</td>\n",
       "      <td>0.0</td>\n",
       "      <td>4.0</td>\n",
       "      <td>31.140933</td>\n",
       "      <td>47.675067</td>\n",
       "    </tr>\n",
       "    <tr>\n",
       "      <th>1046</th>\n",
       "      <td>0</td>\n",
       "      <td>843396.0</td>\n",
       "      <td>2.894</td>\n",
       "      <td>334.121195</td>\n",
       "      <td>0.0</td>\n",
       "      <td>3.0</td>\n",
       "      <td>2.01</td>\n",
       "      <td>...</td>\n",
       "      <td>0.466517</td>\n",
       "      <td>-0.486335</td>\n",
       "      <td>0.420218</td>\n",
       "      <td>0.0</td>\n",
       "      <td>6.0</td>\n",
       "      <td>34.433726</td>\n",
       "      <td>47.746274</td>\n",
       "    </tr>\n",
       "    <tr>\n",
       "      <th>1047</th>\n",
       "      <td>0</td>\n",
       "      <td>843202.0</td>\n",
       "      <td>1.316</td>\n",
       "      <td>423.179421</td>\n",
       "      <td>0.0</td>\n",
       "      <td>6.0</td>\n",
       "      <td>3.11</td>\n",
       "      <td>...</td>\n",
       "      <td>-0.151360</td>\n",
       "      <td>0.434316</td>\n",
       "      <td>-0.400282</td>\n",
       "      <td>1.0</td>\n",
       "      <td>7.0</td>\n",
       "      <td>38.656175</td>\n",
       "      <td>64.459825</td>\n",
       "    </tr>\n",
       "    <tr>\n",
       "      <th>1048</th>\n",
       "      <td>0</td>\n",
       "      <td>842577.0</td>\n",
       "      <td>2.752</td>\n",
       "      <td>271.024932</td>\n",
       "      <td>0.0</td>\n",
       "      <td>4.0</td>\n",
       "      <td>1.79</td>\n",
       "      <td>...</td>\n",
       "      <td>-0.030790</td>\n",
       "      <td>0.078024</td>\n",
       "      <td>-0.033099</td>\n",
       "      <td>1.0</td>\n",
       "      <td>3.0</td>\n",
       "      <td>19.271070</td>\n",
       "      <td>34.726930</td>\n",
       "    </tr>\n",
       "    <tr>\n",
       "      <th>1049</th>\n",
       "      <td>0</td>\n",
       "      <td>842218.0</td>\n",
       "      <td>3.820</td>\n",
       "      <td>368.140389</td>\n",
       "      <td>0.0</td>\n",
       "      <td>4.0</td>\n",
       "      <td>3.00</td>\n",
       "      <td>...</td>\n",
       "      <td>-0.115749</td>\n",
       "      <td>0.072170</td>\n",
       "      <td>0.032923</td>\n",
       "      <td>0.0</td>\n",
       "      <td>4.0</td>\n",
       "      <td>28.295347</td>\n",
       "      <td>56.584653</td>\n",
       "    </tr>\n",
       "  </tbody>\n",
       "</table>\n",
       "<p>5 rows × 217 columns</p>\n",
       "</div>"
      ],
      "text/plain": [
       "      ActivityScore   molSIDs  XLogP          MW  LipinskiFailures  nRotB  \\\n",
       "1045              0  843609.0  3.454  321.114713               0.0    8.0   \n",
       "1046              0  843396.0  2.894  334.121195               0.0    3.0   \n",
       "1047              0  843202.0  1.316  423.179421               0.0    6.0   \n",
       "1048              0  842577.0  2.752  271.024932               0.0    4.0   \n",
       "1049              0  842218.0  3.820  368.140389               0.0    4.0   \n",
       "\n",
       "      MLogP    ...         ATSc3     ATSc4     ATSc5  nHBDon  nHBAcc  \\\n",
       "1045   2.34    ...      0.116596  0.019901 -0.292837     0.0     4.0   \n",
       "1046   2.01    ...      0.466517 -0.486335  0.420218     0.0     6.0   \n",
       "1047   3.11    ...     -0.151360  0.434316 -0.400282     1.0     7.0   \n",
       "1048   1.79    ...     -0.030790  0.078024 -0.033099     1.0     3.0   \n",
       "1049   3.00    ...     -0.115749  0.072170  0.032923     0.0     4.0   \n",
       "\n",
       "           bpol       apol  \n",
       "1045  31.140933  47.675067  \n",
       "1046  34.433726  47.746274  \n",
       "1047  38.656175  64.459825  \n",
       "1048  19.271070  34.726930  \n",
       "1049  28.295347  56.584653  \n",
       "\n",
       "[5 rows x 217 columns]"
      ]
     },
     "execution_count": 307,
     "metadata": {},
     "output_type": "execute_result"
    }
   ],
   "source": [
    "descriptors.tail()"
   ]
  },
  {
   "cell_type": "code",
   "execution_count": 308,
   "metadata": {
    "collapsed": false
   },
   "outputs": [],
   "source": [
    "# Lookup activity scores for each molSID of descriptors matrix in the sid_activityScore dataframe \n",
    "# and insert activity score into descriptor matrix. \n",
    "for idx,val in enumerate(descriptors['molSIDs']):\n",
    "    temp = sid_activityScore.loc[sid_activityScore['PUBCHEM_SID']==val];\n",
    "    score = temp.iloc[0][1]\n",
    "    descriptors.at[idx,'ActivityScore'] = score;\n"
   ]
  },
  {
   "cell_type": "code",
   "execution_count": 309,
   "metadata": {
    "collapsed": false
   },
   "outputs": [
    {
     "data": {
      "text/html": [
       "<div>\n",
       "<table border=\"1\" class=\"dataframe\">\n",
       "  <thead>\n",
       "    <tr style=\"text-align: right;\">\n",
       "      <th></th>\n",
       "      <th>ActivityScore</th>\n",
       "      <th>molSIDs</th>\n",
       "      <th>XLogP</th>\n",
       "      <th>MW</th>\n",
       "      <th>LipinskiFailures</th>\n",
       "      <th>nRotB</th>\n",
       "      <th>MLogP</th>\n",
       "      <th>...</th>\n",
       "      <th>ATSc3</th>\n",
       "      <th>ATSc4</th>\n",
       "      <th>ATSc5</th>\n",
       "      <th>nHBDon</th>\n",
       "      <th>nHBAcc</th>\n",
       "      <th>bpol</th>\n",
       "      <th>apol</th>\n",
       "    </tr>\n",
       "  </thead>\n",
       "  <tbody>\n",
       "    <tr>\n",
       "      <th>0</th>\n",
       "      <td>0</td>\n",
       "      <td>124897530.0</td>\n",
       "      <td>1.135</td>\n",
       "      <td>369.168856</td>\n",
       "      <td>0.0</td>\n",
       "      <td>10.0</td>\n",
       "      <td>2.89</td>\n",
       "      <td>...</td>\n",
       "      <td>-0.098779</td>\n",
       "      <td>0.094417</td>\n",
       "      <td>-0.105979</td>\n",
       "      <td>4.0</td>\n",
       "      <td>6.0</td>\n",
       "      <td>28.677761</td>\n",
       "      <td>57.044239</td>\n",
       "    </tr>\n",
       "    <tr>\n",
       "      <th>1</th>\n",
       "      <td>0</td>\n",
       "      <td>124897303.0</td>\n",
       "      <td>4.498</td>\n",
       "      <td>249.095378</td>\n",
       "      <td>0.0</td>\n",
       "      <td>2.0</td>\n",
       "      <td>3.11</td>\n",
       "      <td>...</td>\n",
       "      <td>-0.015299</td>\n",
       "      <td>0.003398</td>\n",
       "      <td>0.002364</td>\n",
       "      <td>0.0</td>\n",
       "      <td>1.0</td>\n",
       "      <td>15.641484</td>\n",
       "      <td>39.578516</td>\n",
       "    </tr>\n",
       "    <tr>\n",
       "      <th>2</th>\n",
       "      <td>0</td>\n",
       "      <td>124753561.0</td>\n",
       "      <td>4.554</td>\n",
       "      <td>657.230885</td>\n",
       "      <td>0.0</td>\n",
       "      <td>11.0</td>\n",
       "      <td>4.21</td>\n",
       "      <td>...</td>\n",
       "      <td>0.077083</td>\n",
       "      <td>0.204425</td>\n",
       "      <td>-0.347424</td>\n",
       "      <td>0.0</td>\n",
       "      <td>8.0</td>\n",
       "      <td>57.764452</td>\n",
       "      <td>98.933548</td>\n",
       "    </tr>\n",
       "    <tr>\n",
       "      <th>3</th>\n",
       "      <td>10</td>\n",
       "      <td>124753354.0</td>\n",
       "      <td>8.321</td>\n",
       "      <td>501.146461</td>\n",
       "      <td>1.0</td>\n",
       "      <td>9.0</td>\n",
       "      <td>2.89</td>\n",
       "      <td>...</td>\n",
       "      <td>-0.243732</td>\n",
       "      <td>0.222481</td>\n",
       "      <td>-0.064752</td>\n",
       "      <td>2.0</td>\n",
       "      <td>4.0</td>\n",
       "      <td>40.743589</td>\n",
       "      <td>70.138411</td>\n",
       "    </tr>\n",
       "    <tr>\n",
       "      <th>4</th>\n",
       "      <td>0</td>\n",
       "      <td>121286038.0</td>\n",
       "      <td>4.515</td>\n",
       "      <td>637.224657</td>\n",
       "      <td>0.0</td>\n",
       "      <td>10.0</td>\n",
       "      <td>4.32</td>\n",
       "      <td>...</td>\n",
       "      <td>0.081751</td>\n",
       "      <td>0.016048</td>\n",
       "      <td>0.040308</td>\n",
       "      <td>2.0</td>\n",
       "      <td>6.0</td>\n",
       "      <td>53.306245</td>\n",
       "      <td>97.709755</td>\n",
       "    </tr>\n",
       "  </tbody>\n",
       "</table>\n",
       "<p>5 rows × 217 columns</p>\n",
       "</div>"
      ],
      "text/plain": [
       "   ActivityScore      molSIDs  XLogP          MW  LipinskiFailures  nRotB  \\\n",
       "0              0  124897530.0  1.135  369.168856               0.0   10.0   \n",
       "1              0  124897303.0  4.498  249.095378               0.0    2.0   \n",
       "2              0  124753561.0  4.554  657.230885               0.0   11.0   \n",
       "3             10  124753354.0  8.321  501.146461               1.0    9.0   \n",
       "4              0  121286038.0  4.515  637.224657               0.0   10.0   \n",
       "\n",
       "   MLogP    ...         ATSc3     ATSc4     ATSc5  nHBDon  nHBAcc       bpol  \\\n",
       "0   2.89    ...     -0.098779  0.094417 -0.105979     4.0     6.0  28.677761   \n",
       "1   3.11    ...     -0.015299  0.003398  0.002364     0.0     1.0  15.641484   \n",
       "2   4.21    ...      0.077083  0.204425 -0.347424     0.0     8.0  57.764452   \n",
       "3   2.89    ...     -0.243732  0.222481 -0.064752     2.0     4.0  40.743589   \n",
       "4   4.32    ...      0.081751  0.016048  0.040308     2.0     6.0  53.306245   \n",
       "\n",
       "        apol  \n",
       "0  57.044239  \n",
       "1  39.578516  \n",
       "2  98.933548  \n",
       "3  70.138411  \n",
       "4  97.709755  \n",
       "\n",
       "[5 rows x 217 columns]"
      ]
     },
     "execution_count": 309,
     "metadata": {},
     "output_type": "execute_result"
    }
   ],
   "source": [
    "descriptors.head()"
   ]
  },
  {
   "cell_type": "code",
   "execution_count": 310,
   "metadata": {
    "collapsed": true
   },
   "outputs": [],
   "source": [
    "# Initialise Data and Label variables X and y from dataframe\n",
    "X, Y = descriptors.iloc[:,2:].values, descriptors.iloc[:,0].values"
   ]
  },
  {
   "cell_type": "code",
   "execution_count": 311,
   "metadata": {
    "collapsed": false
   },
   "outputs": [
    {
     "name": "stdout",
     "output_type": "stream",
     "text": [
      "Training data dimensions (840, 215) and trainng labels dimensions (840,)\n",
      "Test data dimensions (210, 215) and trainng labels dimensions (210,)\n"
     ]
    }
   ],
   "source": [
    "# Create test and training sets with 20:80 distribution\n",
    "X_train, X_test, y_train, y_test = train_test_split(X, y, test_size = 0.2, random_state = 2423)\n",
    "print('Training data dimensions',X_train.shape, 'and trainng labels dimensions', y_train.shape)\n",
    "print('Test data dimensions', X_test.shape,'and trainng labels dimensions', y_test.shape)"
   ]
  },
  {
   "cell_type": "code",
   "execution_count": 312,
   "metadata": {
    "collapsed": false
   },
   "outputs": [
    {
     "data": {
      "text/plain": [
       "PLSRegression(copy=True, max_iter=500, n_components=2, scale=True, tol=1e-06)"
      ]
     },
     "execution_count": 312,
     "metadata": {},
     "output_type": "execute_result"
    }
   ],
   "source": [
    "pls2 = PLSRegression(n_components=2)\n",
    "pls2.fit(X, Y)\n",
    "\n",
    "PLSRegression(copy=True, max_iter=500, n_components=2, scale=True,tol=1e-06)"
   ]
  },
  {
   "cell_type": "code",
   "execution_count": null,
   "metadata": {
    "collapsed": true
   },
   "outputs": [],
   "source": []
  }
 ],
 "metadata": {
  "anaconda-cloud": {},
  "kernelspec": {
   "display_name": "Python [conda env:anaconda3]",
   "language": "python",
   "name": "conda-env-anaconda3-py"
  },
  "language_info": {
   "codemirror_mode": {
    "name": "ipython",
    "version": 3
   },
   "file_extension": ".py",
   "mimetype": "text/x-python",
   "name": "python",
   "nbconvert_exporter": "python",
   "pygments_lexer": "ipython3",
   "version": "3.5.2"
  }
 },
 "nbformat": 4,
 "nbformat_minor": 1
}
